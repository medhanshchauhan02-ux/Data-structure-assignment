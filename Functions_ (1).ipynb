{
  "nbformat": 4,
  "nbformat_minor": 0,
  "metadata": {
    "colab": {
      "provenance": []
    },
    "kernelspec": {
      "name": "python3",
      "display_name": "Python 3"
    },
    "language_info": {
      "name": "python"
    }
  },
  "cells": [
    {
      "cell_type": "markdown",
      "source": [
        "# Function"
      ],
      "metadata": {
        "id": "BCw6-o16fNwZ"
      }
    },
    {
      "cell_type": "markdown",
      "source": [
        "1. What is the difference between a function and a method in Python.\n",
        "  - The main difference between is that a method is a function that belongs to an object(or a class),while a function is not associated with any object.\n",
        "  \n",
        "2.  Explain the concept of function arguments and parameters in Python.\n",
        "   - In Python, parameters and arguments are related to functions,but they refer in two different things. A parameter is the variable name listed inside the parentheses in a function's definition. it acts as a placeholder. An argument is the actual value that you pass to the function when you call it.\n",
        "\n",
        "3.   What are the different ways to define and call a function in Python?\n",
        "     - In Python,you primarily define functions using the def keyword or lambda expressions, and you can call them in several ways,including directly,recursively or indirectly.\n",
        "     - Using the def keyword: This is the standard and most common way to create a function. it allows you to define a named block of reusable code that can have multiple expressions and statements.\n",
        "     - Using lambda Expression: A lamda function is a small,anaynmous that can have any numbers of arguments but only one expression. they are useful for short one-time-use-functions.\n",
        "  \n",
        "  4. What is the purpose of the `return` statement in a Python function?\n",
        "\n",
        "  - The return is used to exit a function and pass a value back to the part of the code that called it.\n",
        "     when a return is executed,the function immediately stops running, and any code after the return statement is ignored. the value specfied after return is sent back after return is sent back as the function's result.\n",
        "     - Passing back a value: The primary use of return is to output a result can be stored in a variable or used in other operations.\n",
        "     - Exiting the function: return also serves as a way to control flow of a function. You can use it to exit a function early for instance, inside a conditional statement.\n",
        "\n",
        "  5.  What are iterators in Python and how do they differ from iterables?\n",
        "\n",
        "  -  An iterable is any python object/sequentional str/data structure which is capable of returning its member one at a time. On the other hand, An iterator has an object in next value as a sequence it remembers its internal state.\n",
        "  An iterable is a container for any data whereas Iterator produces the next item for an Iterable.\n",
        "\n",
        "  6.  Explain the concept of generators in Python and how they are defined.\n",
        "   \n",
        "   - A generator in python is a special kind of iterator that allows you to generate a sequence of values over time. Unlike regular function that computes all its values and returns them at once in a list, a generator yields one value at a time and pauses its execution, making it incredibly memory-efficient. The two main primary function\n",
        "\n",
        "(1) Generator function using yield- When a function hits yield statement, it pauses its execution, saves it statements, and sends the value back to the caller. when the caller ask for next value, the function resumes from where it left off.\n",
        "\n",
        "(2) Generator Expressions- This is a more concise, one line way to create a generator the syntax is very similar to a list of comprehension, but you use these parentheses() instead of square brackets[].\n",
        "\n",
        "   7.  What are the advantages of using generators over regular functions?\n",
        "\n",
        "   -  The Primary Advantages of using generator over regular function are memory efficiency, the ablity to represent infinite sequences and the performance gain from lazy evaluation.\n",
        "\n",
        "   (1) Memory Efficency- This is the most significant advantage. A regular function that returns a sequence (like a list) must create and store the entire sequence in memory before returning it. A generator however uses one item at a time and forgets it once it is used require only enough memory for a single item at any moment.\n",
        "\n",
        "  (2) Infinite Sequences- This is Because generators produce value on fly, they can represent sequences that are Theoractically infinite. it would be impossible to store an infinite sequence list.\n",
        "\n",
        "  (3) Lazy Evaluation- Lazy Evaluation means the postpone computation until it's absolutely necessary. the next value is only generated when it's requested by a for loop or a next() call.\n",
        "\n",
        "  8.  What is a lambda function in Python and when is it typically used.\n",
        "\n",
        "  - A lambda Function in python is a smal, anayomous(unnamed) function defined with a lambda keyword. it can have number of arguments but is limited to just one expression. use of lambda function\n",
        "\n",
        "    (1) Lambda functions are often used to provide a custom key for sorting().\n",
        "\n",
        "    (2) map() applies to a function of every item in an iterable. lambdas are concise  way to define that function.\n",
        "\n",
        "    (3) Filters creates an iterator from elements of iterable for which a function returns.\n",
        "\n",
        "  9. Explain the purpose and usage of the `map()` function in Python.\n",
        "\n",
        "  -  The map() function applies a specified function to every item in an iterable (like a list, tuple, or string) and returns a map object, which is an iterator containing the results. It's a concise and efficient way to perform the same operation on each element of a sequence without writing an explicit for loop.  \n",
        "\n",
        "10.  What is the difference between `map()`, `reduce()`, and `filter()` functions in Python.\n",
        "\n",
        "-  map(), filter(), and reduce() are all functions that process iterables, but they each serve a distinct purpose:\n",
        "\n",
        "map() transforms each element of an iterable.\n",
        "\n",
        "filter() selects a subset of elements based on a condition.\n",
        "\n",
        "reduce() combines all elements into a single result.\n",
        "\n",
        "      \n"
      ],
      "metadata": {
        "id": "5y8YJsvqfS8f"
      }
    },
    {
      "cell_type": "code",
      "source": [
        "# 1.Write a Python function that takes a list of numbers as input and returns the sum of all even numbers in the list\n",
        "\n",
        "def sum_even_numbers(numbers):\n",
        "  \"\"\"\n",
        "  Calculates the sum of all even numbers in a list.\n",
        "\n",
        "  Args:\n",
        "    numbers: A list of numbers.\n",
        "\n",
        "  Returns:\n",
        "    The sum of all even numbers in the list.\n",
        "  \"\"\"\n",
        "  even_sum = 0\n",
        "  for number in numbers:\n",
        "    if number % 2 == 0:\n",
        "      even_sum += number\n",
        "  return even_sum\n",
        "\n",
        "my_numbers=[1,2,3,4,5,6,7,8,9,10]\n",
        "even_sum= sum_even_numbers(my_numbers)\n",
        "print(f'the list of numbers is {my_numbers}')\n",
        "print(f'the sum of even numbers is {even_sum}')"
      ],
      "metadata": {
        "colab": {
          "base_uri": "https://localhost:8080/"
        },
        "id": "6sYIBSbiaqRi",
        "outputId": "fc9fcfb8-55e5-4633-9fd5-2db0c64b75a9"
      },
      "execution_count": null,
      "outputs": [
        {
          "output_type": "stream",
          "name": "stdout",
          "text": [
            "the list of numbers is [1, 2, 3, 4, 5, 6, 7, 8, 9, 10]\n",
            "the sum of even numbers is 30\n"
          ]
        }
      ]
    },
    {
      "cell_type": "code",
      "source": [
        "# 2.  Create a Python function that accepts a string and returns the reverse of that string\n",
        "def reverse_string(input_string):\n",
        "  \"\"\"\n",
        "  Reverses a given string.\n",
        "\n",
        "  Args:\n",
        "    input_string: The string to be reversed.\n",
        "\n",
        "  Returns:\n",
        "    The reversed string.\n",
        "  \"\"\"\n",
        "  return input_string[::-1]\n",
        "\n",
        "orginal=\"Hello World!\"\n",
        "reversed_str=reverse_string(orginal)\n",
        "print(f'the orginal string is {orginal}')\n",
        "print(f'the reversed string is {reversed_str}')"
      ],
      "metadata": {
        "colab": {
          "base_uri": "https://localhost:8080/"
        },
        "id": "Cic-OT8EfGOF",
        "outputId": "1355e266-92b1-499f-ef61-b9e2455ea43d"
      },
      "execution_count": null,
      "outputs": [
        {
          "output_type": "stream",
          "name": "stdout",
          "text": [
            "the orginal string is Hello World!\n",
            "the reversed string is !dlroW olleH\n"
          ]
        }
      ]
    },
    {
      "cell_type": "code",
      "source": [
        "#3.  Implement a Python function that takes a list of integers and returns a new list containing the squares of each number.\n",
        "def square_numbers(numbers_list):\n",
        "  \"\"\"\n",
        "  Takes a list of numbers and returns a new list with each number squared.\n",
        "\n",
        "  Args:\n",
        "    numbers_list: A list of integers.\n",
        "\n",
        "  Returns:\n",
        "    A new list containing the square of each number.\n",
        "  \"\"\"\n",
        "  return [num * num for num in numbers_list]\n",
        "my_numbers = [1, 2, 3, 4, 5]\n",
        "squared = square_numbers(my_numbers)\n",
        "\n",
        "print(f\"Original list: {my_numbers}\")\n",
        "print(f\"Squared list: {squared}\")"
      ],
      "metadata": {
        "id": "3kWIzD8YjLSH",
        "colab": {
          "base_uri": "https://localhost:8080/",
          "height": 0
        },
        "outputId": "b6e2897e-7eae-40c8-f637-0e8d97c919f8"
      },
      "execution_count": 1,
      "outputs": [
        {
          "output_type": "stream",
          "name": "stdout",
          "text": [
            "Original list: [1, 2, 3, 4, 5]\n",
            "Squared list: [1, 4, 9, 16, 25]\n"
          ]
        }
      ]
    },
    {
      "cell_type": "code",
      "source": [
        "#4. Write a Python function that checks if a given number is prime or not from 1 to 200.\n",
        "def is_prime(num):\n",
        "  \"\"\"\n",
        "  Checks if a given number is a prime number.\n",
        "\n",
        "  Args:\n",
        "    num: An integer.\n",
        "\n",
        "  Returns:\n",
        "    True if the number is prime, False otherwise.\n",
        "  \"\"\"\n",
        "  # Prime numbers must be greater than 1\n",
        "  if num <= 1:\n",
        "    return False\n",
        "\n",
        "  # Check for divisors from 2 up to the square root of the number\n",
        "  # We only need to check up to the square root for efficiency\n",
        "  for i in range(2, int(num**0.5) + 1):\n",
        "    if num % i == 0:\n",
        "      return False # If we find a divisor, it's not prime\n",
        "\n",
        "  # If the loop completes without finding any divisors, the number is prime\n",
        "  return True\n",
        "  print(\"Prime numbers from 1 to 200:\")\n",
        "primes_in_range = []\n",
        "for number in range(1, 201):\n",
        "  if is_prime(number):\n",
        "    primes_in_range.append(str(number))\n",
        "\n",
        "print(\", \".join(primes_in_range))"
      ],
      "metadata": {
        "colab": {
          "base_uri": "https://localhost:8080/",
          "height": 0
        },
        "id": "pIlEAF0TM6kc",
        "outputId": "98f4c3c8-9f32-4d30-fe8a-b81b58944aa9"
      },
      "execution_count": 2,
      "outputs": [
        {
          "output_type": "stream",
          "name": "stdout",
          "text": [
            "2, 3, 5, 7, 11, 13, 17, 19, 23, 29, 31, 37, 41, 43, 47, 53, 59, 61, 67, 71, 73, 79, 83, 89, 97, 101, 103, 107, 109, 113, 127, 131, 137, 139, 149, 151, 157, 163, 167, 173, 179, 181, 191, 193, 197, 199\n"
          ]
        }
      ]
    },
    {
      "cell_type": "code",
      "source": [
        "#5 . Create an iterator class in Python that generates the Fibonacci sequence up to a specified number of terms.\n",
        "class FibonacciIterator:\n",
        "  \"\"\"\n",
        "  An iterator class to generate the Fibonacci sequence up to a specified limit.\n",
        "  \"\"\"\n",
        "  def __init__(self, limit):\n",
        "    self.limit = limit\n",
        "    self.count = 0\n",
        "    self.current = 0\n",
        "    self.next_val = 1\n",
        "\n",
        "  def __iter__(self):\n",
        "    \"\"\"Returns the iterator object itself.\"\"\"\n",
        "    return self\n",
        "\n",
        "  def __next__(self):\n",
        "    \"\"\"\n",
        "    Generates the next Fibonacci number in the sequence.\n",
        "    Raises StopIteration when the limit is reached.\n",
        "    \"\"\"\n",
        "    if self.count >= self.limit:\n",
        "      # Signal the end of the iteration\n",
        "      raise StopIteration\n",
        "    else:\n",
        "      # Store the current number to be returned\n",
        "      result = self.current\n",
        "\n",
        "      # Calculate the next Fibonacci number\n",
        "      new_next = self.current + self.next_val\n",
        "\n",
        "      # Update the state for the next iteration\n",
        "      self.current = self.next_val\n",
        "      self.next_val = new_next\n",
        "\n",
        "      self.count += 1\n",
        "      return result\n",
        "      print(\"Fibonacci sequence up to 10 terms:\")\n",
        "fib_sequence = FibonacciIterator(10)\n",
        "\n",
        "# The for loop automatically handles the iteration\n",
        "for num in fib_sequence:\n",
        "  print(num, end=\" \")"
      ],
      "metadata": {
        "colab": {
          "base_uri": "https://localhost:8080/",
          "height": 0
        },
        "id": "Ehkj5Cb1OkQj",
        "outputId": "d9368966-bcaa-4d8d-dfba-c18c59da80a0"
      },
      "execution_count": 3,
      "outputs": [
        {
          "output_type": "stream",
          "name": "stdout",
          "text": [
            "0 1 1 2 3 5 8 13 21 34 "
          ]
        }
      ]
    },
    {
      "cell_type": "code",
      "source": [
        "#6. Write a generator function in Python that yields the powers of 2 up to a given exponent.\n",
        "def powers_of_two(max_exponent):\n",
        "  \"\"\"\n",
        "  A generator function that yields powers of 2 from 2^0 up to a given exponent.\n",
        "\n",
        "  Args:\n",
        "    max_exponent: The maximum exponent to calculate (inclusive).\n",
        "\n",
        "  Yields:\n",
        "    The next power of 2 in the sequence. 🔢\n",
        "  \"\"\"\n",
        "  for exponent in range(max_exponent + 1):\n",
        "    yield 2 ** exponent\n",
        "    print(\"Powers of 2 up to 5:\")\n",
        "for power in powers_of_two(5):\n",
        "  print(power)\n"
      ],
      "metadata": {
        "colab": {
          "base_uri": "https://localhost:8080/",
          "height": 0
        },
        "id": "B-xC-jQJQR8t",
        "outputId": "7d8a04d8-89e3-40db-f7f0-e2f0ac8cb98e"
      },
      "execution_count": 4,
      "outputs": [
        {
          "output_type": "stream",
          "name": "stdout",
          "text": [
            "1\n",
            "Powers of 2 up to 5:\n",
            "2\n",
            "Powers of 2 up to 5:\n",
            "4\n",
            "Powers of 2 up to 5:\n",
            "8\n",
            "Powers of 2 up to 5:\n",
            "16\n",
            "Powers of 2 up to 5:\n",
            "32\n",
            "Powers of 2 up to 5:\n"
          ]
        }
      ]
    },
    {
      "cell_type": "code",
      "source": [
        "#7. Implement a generator function that reads a file line by line and yields each line as a string.\n",
        "def read_line_generator(filename):\n",
        "  \"\"\"\n",
        "  A generator function that reads a file line by line.\n",
        "\n",
        "  Args:\n",
        "    filename: The name of the file to read.\n",
        "\n",
        "  Yields:\n",
        "    Each line of the file as a string.\n",
        "  \"\"\"\n",
        "  with open(filename, 'r') as f:\n",
        "    for line in f:\n",
        "      yield line.strip() # Use strip() to remove leading/trailing whitespace, including newlines\n",
        "\n",
        "with open('my_log.txt', 'w') as f:\n",
        "  f.write(\"First line of the log.\\n\")\n",
        "  f.write(\"Second line with some data.\\n\")\n",
        "  f.write(\"Third and final line.\\n\")\n",
        "\n",
        "line_reader = read_line_generator('my_log.txt')\n",
        "print(\"Reading 'my_log.txt' line by line:\")\n",
        "for line in line_reader:\n",
        "  print(line)"
      ],
      "metadata": {
        "colab": {
          "base_uri": "https://localhost:8080/",
          "height": 0
        },
        "id": "KRVATziARkII",
        "outputId": "ed5fa6f3-c219-4031-922c-489f8de61f7a"
      },
      "execution_count": 6,
      "outputs": [
        {
          "output_type": "stream",
          "name": "stdout",
          "text": [
            "Reading 'my_log.txt' line by line:\n",
            "First line of the log.\n",
            "Second line with some data.\n",
            "Third and final line.\n"
          ]
        }
      ]
    },
    {
      "cell_type": "code",
      "source": [
        "#8.  Use a lambda function in Python to sort a list of tuples based on the second element of each tuple.\n",
        "product_inventory = [('apple', 50), ('banana', 20), ('cherry', 80), ('date', 15)]\n",
        "sorted_inventory = sorted(product_inventory, key=lambda item: item[1])\n",
        "print(f\"Original list: {product_inventory}\")\n",
        "print(f\"Sorted list:   {sorted_inventory}\")"
      ],
      "metadata": {
        "colab": {
          "base_uri": "https://localhost:8080/",
          "height": 0
        },
        "id": "pGFhnsGXa7oL",
        "outputId": "e1195ac1-7c6e-4e21-f5d2-a5b79c62156a"
      },
      "execution_count": 7,
      "outputs": [
        {
          "output_type": "stream",
          "name": "stdout",
          "text": [
            "Original list: [('apple', 50), ('banana', 20), ('cherry', 80), ('date', 15)]\n",
            "Sorted list:   [('date', 15), ('banana', 20), ('apple', 50), ('cherry', 80)]\n"
          ]
        }
      ]
    },
    {
      "cell_type": "code",
      "source": [
        "#9. Write a Python program that uses `map()` to convert a list of temperatures from Celsius to Fahrenheit.\n",
        "def convert_temperatures():\n",
        "  \"\"\"\n",
        "  Converts a list of temperatures from Celsius to Fahrenheit using map().\n",
        "  \"\"\"\n",
        "  celsius_temperatures = [0, 10, 20, 30, 40]\n",
        "  fahrenheit_temperatures = list(map(lambda celsius: (celsius * 9/5) + 32, celsius_temperatures))\n",
        "  # It seems like there's a typo here. It should be fahrenheit_temperatures, not fahrenheit_temps.\n",
        "  fahrenheit_list = list(fahrenheit_temperatures)\n",
        "\n",
        "  print(f\"Celsius temperatures:    {celsius_temperatures}\")\n",
        "  print(f\"Fahrenheit temperatures: {fahrenheit_list}\")\n",
        "convert_temperatures()"
      ],
      "metadata": {
        "colab": {
          "base_uri": "https://localhost:8080/",
          "height": 0
        },
        "id": "fIYMmwAQbg-_",
        "outputId": "157f723f-b1b4-4a21-80aa-3e3c6e0c71b6"
      },
      "execution_count": 9,
      "outputs": [
        {
          "output_type": "stream",
          "name": "stdout",
          "text": [
            "Celsius temperatures:    [0, 10, 20, 30, 40]\n",
            "Fahrenheit temperatures: [32.0, 50.0, 68.0, 86.0, 104.0]\n"
          ]
        }
      ]
    },
    {
      "cell_type": "code",
      "source": [
        "#10. Create a Python program that uses `filter()` to remove all the vowels from a given string.\n",
        "def remove_vowels(input_string):\n",
        "  \"\"\"\n",
        "  Removes all vowels from a string using the filter() function.\n",
        "\n",
        "  Args:\n",
        "    input_string: The string from which to remove vowels.\n",
        "\n",
        "  Returns:\n",
        "    A new string with all vowels removed.\n",
        "  \"\"\"\n",
        "  # Create a set of vowels for fast lookup (both lowercase and uppercase)\n",
        "  vowels = set(\"aeiouAEIOU\")\n",
        "\n",
        "  # Use filter() to keep only the characters that are NOT in the vowels set\n",
        "  filtered_chars = filter(lambda char: char not in vowels, input_string)\n",
        "\n",
        "  # Join the filtered characters back into a string\n",
        "  return \"\".join(filtered_chars)\n",
        "\n",
        "original_string = \"Hello World! This is a test of the filter function.\"\n",
        "string_without_vowels = remove_vowels(original_string)\n",
        "\n",
        "print(f\"Original string:  {original_string}\")\n",
        "print(f\"String w/o vowels: {string_without_vowels}\")"
      ],
      "metadata": {
        "colab": {
          "base_uri": "https://localhost:8080/",
          "height": 0
        },
        "id": "LuvSAr2aeF1a",
        "outputId": "a15e28f9-0736-4ec2-e08f-28a1abd4908e"
      },
      "execution_count": 11,
      "outputs": [
        {
          "output_type": "stream",
          "name": "stdout",
          "text": [
            "Original string:  Hello World! This is a test of the filter function.\n",
            "String w/o vowels: Hll Wrld! Ths s  tst f th fltr fnctn.\n"
          ]
        }
      ]
    },
    {
      "cell_type": "code",
      "source": [
        "#11.\n",
        "# The input list of book orders\n",
        "orders = [\n",
        "    [34587, 'Learning Python, Mark Lutz', 4, 40.95],\n",
        "    [98762, 'Programming Python, Mark Lutz', 5, 56.80],\n",
        "    [77226, 'Head First Python, Paul Barry', 3, 32.95],\n",
        "    [88112, 'Einführung in Python3, Bernd Klein', 3, 24.99]\n",
        "]\n",
        "\n",
        "# Use map() and a lambda function to process the orders\n",
        "# The result of map() is an iterator, so we convert it to a list\n",
        "processed_orders = list(\n",
        "    map(lambda order: (\n",
        "        order[0],\n",
        "        (order[2] * order[3]) + 10 if (order[2] * order[3]) < 100 else (order[2] * order[3])\n",
        "    ), orders)\n",
        ")\n",
        "\n",
        "print(\"Original Orders:\")\n",
        "print(orders)\n",
        "print(\"\\nProcessed Orders (Order Number, Final Price):\")\n",
        "print(processed_orders)"
      ],
      "metadata": {
        "colab": {
          "base_uri": "https://localhost:8080/",
          "height": 0
        },
        "id": "ddGposO7fj_p",
        "outputId": "18be1ce9-a09a-46e4-f035-327c151c8316"
      },
      "execution_count": 12,
      "outputs": [
        {
          "output_type": "stream",
          "name": "stdout",
          "text": [
            "Original Orders:\n",
            "[[34587, 'Learning Python, Mark Lutz', 4, 40.95], [98762, 'Programming Python, Mark Lutz', 5, 56.8], [77226, 'Head First Python, Paul Barry', 3, 32.95], [88112, 'Einführung in Python3, Bernd Klein', 3, 24.99]]\n",
            "\n",
            "Processed Orders (Order Number, Final Price):\n",
            "[(34587, 163.8), (98762, 284.0), (77226, 108.85000000000001), (88112, 84.97)]\n"
          ]
        }
      ]
    },
    {
      "cell_type": "code",
      "source": [],
      "metadata": {
        "id": "qIAKSUpkh-J0"
      },
      "execution_count": null,
      "outputs": []
    }
  ]
}