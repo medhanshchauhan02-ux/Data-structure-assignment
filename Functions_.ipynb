{
  "nbformat": 4,
  "nbformat_minor": 0,
  "metadata": {
    "colab": {
      "provenance": []
    },
    "kernelspec": {
      "name": "python3",
      "display_name": "Python 3"
    },
    "language_info": {
      "name": "python"
    }
  },
  "cells": [
    {
      "cell_type": "markdown",
      "source": [
        "# Function"
      ],
      "metadata": {
        "id": "BCw6-o16fNwZ"
      }
    },
    {
      "cell_type": "markdown",
      "source": [
        "1. What is the difference between a function and a method in Python.\n",
        "  - The main difference between is that a method is a function that belongs to an object(or a class),while a function is not associated with any object.\n",
        "  \n",
        "2.  Explain the concept of function arguments and parameters in Python.\n",
        "   - In Python, parameters and arguments are related to functions,but they refer in two different things. A parameter is the variable name listed inside the parentheses in a function's definition. it acts as a placeholder. An argument is the actual value that you pass to the function when you call it.\n",
        "\n",
        "3.   What are the different ways to define and call a function in Python?\n",
        "     - In Python,you primarily define functions using the def keyword or lambda expressions, and you can call them in several ways,including directly,recursively or indirectly.\n",
        "     - Using the def keyword: This is the standard and most common way to create a function. it allows you to define a named block of reusable code that can have multiple expressions and statements.\n",
        "     - Using lambda Expression: A lamda function is a small,anaynmous that can have any numbers of arguments but only one expression. they are useful for short one-time-use-functions.\n",
        "  \n",
        "  4. What is the purpose of the `return` statement in a Python function?\n",
        "\n",
        "  - The return is used to exit a function and pass a value back to the part of the code that called it.\n",
        "     when a return is executed,the function immediately stops running, and any code after the return statement is ignored. the value specfied after return is sent back after return is sent back as the function's result.\n",
        "     - Passing back a value: The primary use of return is to output a result can be stored in a variable or used in other operations.\n",
        "     - Exiting the function: return also serves as a way to control flow of a function. You can use it to exit a function early for instance, inside a conditional statement.\n",
        "\n",
        "  5.  What are iterators in Python and how do they differ from iterables?\n",
        "\n",
        "  -  An iterable is any python object/sequentional str/data structure which is capable of returning its member one at a time. On the other hand, An iterator has an object in next value as a sequence it remembers its internal state.\n",
        "  An iterable is a container for any data whereas Iterator produces the next item for an Iterable.\n",
        "\n",
        "  6.  Explain the concept of generators in Python and how they are defined.\n",
        "   \n",
        "   - A generator in python is a special kind of iterator that allows you to generate a sequence of values over time. Unlike regular function that computes all its values and returns them at once in a list, a generator yields one value at a time and pauses its execution, making it incredibly memory-efficient. The two main primary function\n",
        "\n",
        "(1) Generator function using yield- When a function hits yield statement, it pauses its execution, saves it statements, and sends the value back to the caller. when the caller ask for next value, the function resumes from where it left off.\n",
        "\n",
        "(2) Generator Expressions- This is a more concise, one line way to create a generator the syntax is very similar to a list of comprehension, but you use these parentheses() instead of square brackets[].\n",
        "\n",
        "   7.  What are the advantages of using generators over regular functions?\n",
        "\n",
        "   -  The Primary Advantages of using generator over regular function are memory efficiency, the ablity to represent infinite sequences and the performance gain from lazy evaluation.\n",
        "\n",
        "   (1) Memory Efficency- This is the most significant advantage. A regular function that returns a sequence (like a list) must create and store the entire sequence in memory before returning it. A generator however uses one item at a time and forgets it once it is used require only enough memory for a single item at any moment.\n",
        "\n",
        "  (2) Infinite Sequences- This is Because generators produce value on fly, they can represent sequences that are Theoractically infinite. it would be impossible to store an infinite sequence list.\n",
        "\n",
        "  (3) Lazy Evaluation- Lazy Evaluation means the postpone computation until it's absolutely necessary. the next value is only generated when it's requested by a for loop or a next() call.\n",
        "\n",
        "  8.  What is a lambda function in Python and when is it typically used.\n",
        "\n",
        "  - A lambda Function in python is a smal, anayomous(unnamed) function defined with a lambda keyword. it can have number of arguments but is limited to just one expression. use of lambda function\n",
        "\n",
        "    (1) Lambda functions are often used to provide a custom key for sorting().\n",
        "\n",
        "    (2) map() applies to a function of every item in an iterable. lambdas are concise  way to define that function.\n",
        "\n",
        "    (3) Filters creates an iterator from elements of iterable for which a function returns.\n",
        "\n",
        "  9. Explain the purpose and usage of the `map()` function in Python.\n",
        "\n",
        "  -  The map() function applies a specified function to every item in an iterable (like a list, tuple, or string) and returns a map object, which is an iterator containing the results. It's a concise and efficient way to perform the same operation on each element of a sequence without writing an explicit for loop.  \n",
        "\n",
        "10.  What is the difference between `map()`, `reduce()`, and `filter()` functions in Python.\n",
        "\n",
        "-  map(), filter(), and reduce() are all functions that process iterables, but they each serve a distinct purpose:\n",
        "\n",
        "map() transforms each element of an iterable.\n",
        "\n",
        "filter() selects a subset of elements based on a condition.\n",
        "\n",
        "reduce() combines all elements into a single result.\n",
        "\n",
        "      \n"
      ],
      "metadata": {
        "id": "5y8YJsvqfS8f"
      }
    },
    {
      "cell_type": "code",
      "source": [
        "# 1.Write a Python function that takes a list of numbers as input and returns the sum of all even numbers in the list\n",
        "\n",
        "def sum_even_numbers(numbers):\n",
        "  \"\"\"\n",
        "  Calculates the sum of all even numbers in a list.\n",
        "\n",
        "  Args:\n",
        "    numbers: A list of numbers.\n",
        "\n",
        "  Returns:\n",
        "    The sum of all even numbers in the list.\n",
        "  \"\"\"\n",
        "  even_sum = 0\n",
        "  for number in numbers:\n",
        "    if number % 2 == 0:\n",
        "      even_sum += number\n",
        "  return even_sum\n",
        "\n",
        "my_numbers=[1,2,3,4,5,6,7,8,9,10]\n",
        "even_sum= sum_even_numbers(my_numbers)\n",
        "print(f'the list of numbers is {my_numbers}')\n",
        "print(f'the sum of even numbers is {even_sum}')"
      ],
      "metadata": {
        "colab": {
          "base_uri": "https://localhost:8080/"
        },
        "id": "6sYIBSbiaqRi",
        "outputId": "fc9fcfb8-55e5-4633-9fd5-2db0c64b75a9"
      },
      "execution_count": 2,
      "outputs": [
        {
          "output_type": "stream",
          "name": "stdout",
          "text": [
            "the list of numbers is [1, 2, 3, 4, 5, 6, 7, 8, 9, 10]\n",
            "the sum of even numbers is 30\n"
          ]
        }
      ]
    },
    {
      "cell_type": "code",
      "source": [],
      "metadata": {
        "id": "Cic-OT8EfGOF"
      },
      "execution_count": null,
      "outputs": []
    }
  ]
}