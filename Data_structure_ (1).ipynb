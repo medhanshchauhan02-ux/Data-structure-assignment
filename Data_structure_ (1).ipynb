{
  "nbformat": 4,
  "nbformat_minor": 0,
  "metadata": {
    "colab": {
      "provenance": []
    },
    "kernelspec": {
      "name": "python3",
      "display_name": "Python 3"
    },
    "language_info": {
      "name": "python"
    }
  },
  "cells": [
    {
      "cell_type": "markdown",
      "source": [
        "Theory Answers"
      ],
      "metadata": {
        "id": "DyHjv5VgJ4kT"
      }
    },
    {
      "cell_type": "markdown",
      "source": [
        "1. What are data structure and why are they important?                           \n",
        "A data structure is a specific way of organizing, storing, and managing data in a computer so that it can be accessed and used efficiently. Think of it like organizing books in a library; you can arrange them by author, genre, or title. Each method makes it easier to find a book for a specific purpose.\n",
        "\n",
        "They are important for three main reasons:\n",
        "\n",
        "Efficiency: The right data structure can make an algorithm run much faster. For example, finding a name in a phone book (a dictionary-like structure) is much quicker than searching through a simple, unordered list of names.\n",
        "\n",
        "Code Organization: They help in managing large and complex data, making the code cleaner and easier to understand.\n",
        "\n",
        "Reusability: Well-defined data structures can be reused across different parts of a program or in different projects.\n",
        "\n"
      ],
      "metadata": {
        "id": "cumvq5Tq_PKl"
      }
    },
    {
      "cell_type": "markdown",
      "source": [
        " 2.Explain the difference between mutable and immutable data types with examples?\n",
        "  \n",
        "  Mutable objects can be changed after they are created. You can add, remove, or modify their elements.\n",
        "\n",
        "Example: A Python list.\n",
        "\n",
        "Python\n",
        "\n",
        "my_list = [1, 2, 3]\n",
        "print(my_list) # Output: [1, 2, 3]\n",
        "# Modify the list\n",
        "my_list[0] = 99\n",
        "print(my_list) # Output: [99, 2, 3]\n",
        "Immutable objects cannot be changed after they are created. If you want to alter it, you must create a new object.\n",
        "\n",
        "Example: A Python tuple or string.\n",
        "\n",
        "Python\n",
        "\n",
        "my_tuple = (1, 2, 3)\n",
        "# This next line will cause a TypeError because tuples are immutable.\n",
        "# my_tuple[0] = 99"
      ],
      "metadata": {
        "id": "9QkxXRjgAiFo"
      }
    },
    {
      "cell_type": "markdown",
      "source": [
        "3. What are the main differences between lists and tuples in Python?\n",
        "\n",
        "\n",
        "List are mutable on the other hand tulpes are immutable and in list square brackets[] are used and in tuples Parenthess() are used the performance of list is slightly slower because of mutability overhead tuples are faster as compare to list and more memory efficient\n",
        "\n"
      ],
      "metadata": {
        "id": "-92YV6IsBgou"
      }
    },
    {
      "cell_type": "markdown",
      "source": [
        "4.  Describe how dictionaries store data?\n",
        "\n",
        "Dictionaries store data as key-value pairs.\n",
        "\n",
        "Key: A unique identifier for a piece of data. Keys must be of an immutable type (like strings, numbers, or tuples).\n",
        "\n",
        "Value: The data associated with a key. Values can be of any data type.\n",
        "\n",
        "Internally, dictionaries use a hash table, which allows for very fast retrieval of values based on their keys.\n",
        "\n",
        "\n",
        "\n",
        "# 'name','age', and 'city' are keys\n",
        "# 'Alice', 30, and 'New York' are values\n"
      ],
      "metadata": {
        "id": "gWvlFgZTHLj6"
      }
    },
    {
      "cell_type": "markdown",
      "source": [
        "5. Why might you use a set instead of a list in Python ?\n",
        "\n",
        "I would use a set instead of a list in two main situations:\n",
        "\n",
        "Enforcing Uniqueness: Sets automatically discard duplicate values. This is useful when you only want to store unique items.\n",
        "\n",
        "Fast Membership Testing: Checking if an item is present in a set is extremely fast (average time complexity of O(1)). In a list, the computer has to potentially check every single element (an O(n) operation), which is much slower for large lists."
      ],
      "metadata": {
        "id": "6aBhfzArIMPR"
      }
    },
    {
      "cell_type": "markdown",
      "source": [
        "6. What is a string in Python, and how is it different from a list?\n",
        "\n",
        "A string is an immutable sequence of characters. While it behaves like a sequence, similar to a list, there are key differences:\n",
        "\n",
        "Mutability: Strings are immutable. You cannot change a character in a string. Lists are mutable.\n",
        "\n",
        "Element Type: A string can only contain characters. A list can contain elements of any data type (integers, strings, other lists, etc.)."
      ],
      "metadata": {
        "id": "LQ_ZcVOEI_B7"
      }
    },
    {
      "cell_type": "markdown",
      "source": [
        "7. How do tuples ensure data integrity in Python?\n",
        "\n",
        "Tuples ensure data integrity because they are immutable. Once a tuple is created, its contents cannot be accidentally or intentionally altered, deleted, or added to. This makes them a safe way to store data that you want to remain constant throughout your program, such as configuration settings or coordinates.\n",
        "\n"
      ],
      "metadata": {
        "id": "3dEuleMRJYNi"
      }
    },
    {
      "cell_type": "markdown",
      "source": [
        "8. What is a hash table, and how does it relate to dictionaries in Python?\n",
        "\n",
        "A hash table is a data structure that maps keys to values. It uses a special function called a hash function to compute an index (a \"hash\") from a key. This index is then used to locate the corresponding value in memory. Dictionaries and sets are implemented using hash tables. This is why they are so fast for looking up, adding, and deleting items. The hash table structure allows them to find an item based on its key in constant average time, O(1), regardless of the size of the dictionary.\n",
        "\n"
      ],
      "metadata": {
        "id": "skzM9wjhJ874"
      }
    },
    {
      "cell_type": "markdown",
      "source": [
        "9. Can lists contain different data types in Python?\n",
        "\n",
        "Yes, absolutely. Lists are very flexible and can hold a mixture of different data types in the same list.                                                 For Example\n",
        "\n",
        "\n",
        "\n",
        "mixed_list = [1, \"hello\", 3.14, True, [10, 20]]"
      ],
      "metadata": {
        "id": "0_CQlkAXKvNd"
      }
    },
    {
      "cell_type": "markdown",
      "source": [
        "10. Explain why strings are immutable in Python.\n",
        "\n",
        "Strings are immutable in Python for several reasons related to efficiency and safety:\n",
        "\n",
        "Performance: Since a string cannot be changed, Python can perform optimizations like reusing the same string object for multiple variables that have the same value.\n",
        "\n",
        "Hashing: Because strings are immutable, their hash value never changes. This is what allows strings to be used as keys in dictionaries.\n",
        "\n",
        "Safety: If you pass a string to a function, you can be confident that the function cannot change it."
      ],
      "metadata": {
        "id": "b5Ukg1WxLuvT"
      }
    },
    {
      "cell_type": "markdown",
      "source": [
        "11. What advantages do dictionaries offer over lists for certain tasks?\n",
        "\n",
        "Dictionaries offer significant advantages for tasks involving lookups or structured data:\n",
        "\n",
        "Fast Lookups: Retrieving a value by its key in a dictionary is incredibly fast (O(1) on average). Finding an item in a list requires searching through it (O(n)), which is much slower.\n",
        "\n",
        "Readability: Using descriptive string keys (person['name']) is often more readable and less error-prone than using numerical indices (person[0]). Dictionaries are self-documenting in this way.\n",
        "\n"
      ],
      "metadata": {
        "id": "1FgdBzIzDQot"
      }
    },
    {
      "cell_type": "markdown",
      "source": [
        "12.  How do sets handle duplicate values in Python?\n",
        "\n",
        "Sets simply do not store them. If you try to add an item to a set that is already present, the set remains unchanged. The operation is ignored, and no error is raised.\n",
        "\n",
        "numbers = {1, 2, 3, 3, 4, 2}\n",
        "print(numbers) # Output: {1, 2, 3, 4}"
      ],
      "metadata": {
        "id": "r_cazV7rFAUO"
      }
    },
    {
      "cell_type": "markdown",
      "source": [
        "13. Describe a scenario where using a tuple would be preferable over a list.\n",
        "A great scenario is for storing a collection of fixed data that represents a single entity, like GPS coordinates.\n",
        "\n",
        "# A tuple is perfect for coordinates because they have a fixed structure (x, y)\n",
        "# and shouldn't be changed.\n",
        "location = (40.7128, -74.0060)\n",
        "\n",
        "# Using it as a dictionary key is another great use case.\n",
        "city_locations = {\n",
        "    (40.7128, -74.0060): \"New York\",\n",
        "    (34.0522, -118.2437): \"Los Angeles\"\n",
        "}\n",
        "A list wouldn't be ideal here because its elements could be accidentally changed, or its length could be altered, which wouldn't make sense for a coordinate pair."
      ],
      "metadata": {
        "id": "osMhv-slFVif"
      }
    },
    {
      "cell_type": "markdown",
      "source": [
        "14. How does the “in” keyword work differently for lists and dictionaries?\n",
        "\n",
        "For a list, the in keyword checks for the presence of a value.\n",
        "\n",
        "my_list = ['apple', 'banana', 'cherry']\n",
        "print('banana' in my_list) # Output: True\n",
        "For a dictionary, the in keyword checks for the presence of a key, not a value.\n",
        "\n",
        "person = {'name': 'Alice', 'age': 30}\n",
        "print('age' in person)      # Output: True (checks for the key)\n",
        "print('Alice' in person)    # Output: False (does not check for the value)\n"
      ],
      "metadata": {
        "id": "mN640MeAFsJT"
      }
    },
    {
      "cell_type": "markdown",
      "source": [
        "15. Can you modify the elements of a tuple? Explain why or why not.\n",
        "\n",
        "No, you cannot. This is because tuples are immutable. The definition of immutability is that an object's state cannot be modified after it has been created. Attempting to assign a new value to an index in a tuple will result in a TypeError."
      ],
      "metadata": {
        "id": "ccxwqcyHGYm1"
      }
    },
    {
      "cell_type": "markdown",
      "source": [
        "16. What is a nested dictionary, and give an example of its use case?\n",
        "\n",
        "A nested dictionary is a dictionary that contains another dictionary as one of its values. It's a way to create more complex, hierarchical data structures.\n",
        "\n",
        "A common use case is to store structured records, such as a database of employees:\n",
        "\n",
        "\n",
        "\n",
        "employees = {\n",
        "    'emp101': {\n",
        "        'name': 'John Doe',\n",
        "        'position': 'Developer',\n",
        "        'contact': {\n",
        "            'email': 'john.d@example.com',\n",
        "            'phone': '123-456-7890'\n",
        "        }\n",
        "    },\n",
        "    'emp102': {\n",
        "        'name': 'Jane Smith',\n",
        "        'position': 'Manager',\n",
        "        'contact': {\n",
        "            'email': 'jane.s@example.com',\n",
        "            'phone': '098-765-4321'\n",
        "        }\n",
        "    }\n",
        "}\n",
        "\n",
        "# Accessing nested data\n",
        "print(employees['emp101']['contact']['email'])\n",
        "# Output: john.d@example.com\n"
      ],
      "metadata": {
        "id": "pe-NWGdJG77q"
      }
    },
    {
      "cell_type": "markdown",
      "source": [
        "17. Describe the time complexity of accessing elements in a dictionary.\n",
        "\n",
        "The time complexity for accessing, inserting, or deleting elements in a dictionary is:\n",
        "\n",
        "Average Case: O(1), or constant time. This means the operation takes roughly the same amount of time regardless of how many items are in the dictionary.\n",
        "\n",
        "Worst Case: O(n), or linear time. This is very rare and only happens if a large number of keys happen to hash to the same slot in the underlying hash table (a hash collision).\n",
        "\n"
      ],
      "metadata": {
        "id": "9mKPdGBDH_Ft"
      }
    },
    {
      "cell_type": "markdown",
      "source": [
        "18.  In what situations are lists preferred over dictionaries?\n",
        "\n",
        "Lists are preferred when:\n",
        "\n",
        "The order of the items matters.\n",
        "\n",
        "You want to store a simple collection of items, not key-value pairs.\n",
        "\n",
        "You need to store duplicate values.\n",
        "\n",
        "You will primarily access items by their numerical position (index)."
      ],
      "metadata": {
        "id": "6KbTGfpYIbwb"
      }
    },
    {
      "cell_type": "markdown",
      "source": [
        "19. Why are dictionaries considered unordered, and how does that affect data retrieval?\n",
        "\n",
        "Historically, dictionaries did not preserve the order in which items were inserted. The internal layout was determined by the hash function.\n",
        "\n",
        "How it affected retrieval: It meant you could only retrieve data by using its key. You could not reliably access the \"first\" or \"last\" item inserted.\n",
        "\n",
        "Important Note: Since Python 3.7, dictionaries are officially insertion-ordered. The order you put items in is the order they will be in when you iterate over them. However, you still retrieve data by its key, not by a numerical index like a list. The \"unordered\" concept now primarily refers to the access method (by key) rather than the iteration orde"
      ],
      "metadata": {
        "id": "QVbM6pKqIuBY"
      }
    },
    {
      "cell_type": "markdown",
      "source": [
        "20. Explain the difference between a list and a dictionary in terms of data retrieval.\n",
        "\n",
        "The fundamental difference is how you access the data within them:\n",
        "\n",
        "List: You retrieve data using a numerical index (an integer representing the item's position). The index starts at 0.\n",
        "\n",
        "fruits = ['apple', 'banana', 'cherry']\n",
        "first_fruit = fruits[0] # Access by index 0\n",
        "Dictionary: You retrieve data using a unique key. This key is used to look up its associated value.\n",
        "\n",
        "person = {'name': 'Alice', 'age': 30}\n",
        "person_name = person['name'] # Access by key 'name'"
      ],
      "metadata": {
        "id": "LFu7ViVzJE96"
      }
    },
    {
      "cell_type": "markdown",
      "source": [
        "Practical Questions"
      ],
      "metadata": {
        "id": "70srYl8VKE1n"
      }
    },
    {
      "cell_type": "markdown",
      "source": [
        "1.  Write a code to create a string with your name and print it?"
      ],
      "metadata": {
        "id": "2HqNSsBYNDRq"
      }
    },
    {
      "cell_type": "code",
      "source": [
        "my_name= \"Medhansh\"\n",
        "my_name"
      ],
      "metadata": {
        "colab": {
          "base_uri": "https://localhost:8080/",
          "height": 36
        },
        "id": "_1IHsXW1MDvX",
        "outputId": "6ecff0f2-5d64-4fef-d7a1-bf736a6fce2c"
      },
      "execution_count": 7,
      "outputs": [
        {
          "output_type": "execute_result",
          "data": {
            "text/plain": [
              "'Medhansh'"
            ],
            "application/vnd.google.colaboratory.intrinsic+json": {
              "type": "string"
            }
          },
          "metadata": {},
          "execution_count": 7
        }
      ]
    },
    {
      "cell_type": "markdown",
      "source": [
        "2.  Write a code to find the length of the string \"Hello World\"?"
      ],
      "metadata": {
        "id": "EqRArlNmNvSF"
      }
    },
    {
      "cell_type": "code",
      "source": [
        "my_string= \"Hello world \"\n",
        "string_length= len(my_string)\n",
        "string_length"
      ],
      "metadata": {
        "colab": {
          "base_uri": "https://localhost:8080/"
        },
        "id": "hoqJhFKfMvem",
        "outputId": "79cea4a2-8eec-4eb3-ccf7-81ce0cc58ecd"
      },
      "execution_count": 8,
      "outputs": [
        {
          "output_type": "execute_result",
          "data": {
            "text/plain": [
              "12"
            ]
          },
          "metadata": {},
          "execution_count": 8
        }
      ]
    },
    {
      "cell_type": "markdown",
      "source": [
        "3.  Write a code to slice the first 3 characters from the string \"Python Programming?"
      ],
      "metadata": {
        "id": "Bbe0vKc5_s7t"
      }
    },
    {
      "cell_type": "code",
      "source": [
        "my_string= \"Python Programming\"\n",
        "sliced_string= my_string[:3]\n",
        "sliced_string"
      ],
      "metadata": {
        "colab": {
          "base_uri": "https://localhost:8080/",
          "height": 36
        },
        "id": "9bzWUKDjONPE",
        "outputId": "0dda675e-71ba-46e2-93a9-3a670012ea6b"
      },
      "execution_count": 1,
      "outputs": [
        {
          "output_type": "execute_result",
          "data": {
            "text/plain": [
              "'Pyt'"
            ],
            "application/vnd.google.colaboratory.intrinsic+json": {
              "type": "string"
            }
          },
          "metadata": {},
          "execution_count": 1
        }
      ]
    },
    {
      "cell_type": "markdown",
      "source": [
        "4.  Write a code to convert the string \"hello\" to uppercase?"
      ],
      "metadata": {
        "id": "ZA00YHuaBiNo"
      }
    },
    {
      "cell_type": "code",
      "source": [
        "my_string=\"Hello\"\n",
        "uppercase_string= my_string.upper()\n",
        "uppercase_string"
      ],
      "metadata": {
        "colab": {
          "base_uri": "https://localhost:8080/",
          "height": 36
        },
        "id": "pCbqHAIUBVVg",
        "outputId": "fe97561e-e3ea-4263-e800-586c47b54f87"
      },
      "execution_count": 2,
      "outputs": [
        {
          "output_type": "execute_result",
          "data": {
            "text/plain": [
              "'HELLO'"
            ],
            "application/vnd.google.colaboratory.intrinsic+json": {
              "type": "string"
            }
          },
          "metadata": {},
          "execution_count": 2
        }
      ]
    },
    {
      "cell_type": "markdown",
      "source": [
        "5.  Write a code to replace the word \"apple\" with \"orange\" in the string \"I like apple?"
      ],
      "metadata": {
        "id": "OMpE--vrCmRy"
      }
    },
    {
      "cell_type": "code",
      "source": [
        "my_sentence= \"I like apple\"\n",
        "new_sentence= my_sentence.replace(\"apple\", \"orange\")\n",
        "new_sentence"
      ],
      "metadata": {
        "colab": {
          "base_uri": "https://localhost:8080/",
          "height": 36
        },
        "id": "zhFiDHXbCiMC",
        "outputId": "27af0fc0-397f-46a9-fa9f-371308265d1a"
      },
      "execution_count": 3,
      "outputs": [
        {
          "output_type": "execute_result",
          "data": {
            "text/plain": [
              "'I like orange'"
            ],
            "application/vnd.google.colaboratory.intrinsic+json": {
              "type": "string"
            }
          },
          "metadata": {},
          "execution_count": 3
        }
      ]
    },
    {
      "cell_type": "markdown",
      "source": [
        " 6. Write a code to create a list with numbers 1 to 5 and print it?"
      ],
      "metadata": {
        "id": "5Lh8VaKdDfYN"
      }
    },
    {
      "cell_type": "code",
      "source": [
        "my_list= [1,2,3,4,5]\n",
        "my_list"
      ],
      "metadata": {
        "colab": {
          "base_uri": "https://localhost:8080/"
        },
        "id": "2Ga7uny1DP9D",
        "outputId": "853756f5-0e33-4ae8-cbf9-005a46fbfbb2"
      },
      "execution_count": 4,
      "outputs": [
        {
          "output_type": "execute_result",
          "data": {
            "text/plain": [
              "[1, 2, 3, 4, 5]"
            ]
          },
          "metadata": {},
          "execution_count": 4
        }
      ]
    },
    {
      "cell_type": "markdown",
      "source": [
        "7.  Write a code to append the number 10 to the list [1, 2, 3, 4]?"
      ],
      "metadata": {
        "id": "Q8byzXM2EDeP"
      }
    },
    {
      "cell_type": "code",
      "source": [
        "my_list= [1,2,3,4]\n",
        "my_list.append(10)\n",
        "my_list"
      ],
      "metadata": {
        "colab": {
          "base_uri": "https://localhost:8080/"
        },
        "id": "_f0oejw7EBOW",
        "outputId": "a751d833-bd96-47de-a0ce-f71eca34087c"
      },
      "execution_count": 5,
      "outputs": [
        {
          "output_type": "execute_result",
          "data": {
            "text/plain": [
              "[1, 2, 3, 4, 10]"
            ]
          },
          "metadata": {},
          "execution_count": 5
        }
      ]
    },
    {
      "cell_type": "markdown",
      "source": [
        "8.  Write a code to remove the number 3 from the list [1, 2, 3, 4, 5]?"
      ],
      "metadata": {
        "id": "yoDSyMvuEmIr"
      }
    },
    {
      "cell_type": "code",
      "source": [
        "my_list=[1,2,3,4,5]\n",
        "my_list.remove(3)\n",
        "my_list"
      ],
      "metadata": {
        "colab": {
          "base_uri": "https://localhost:8080/"
        },
        "id": "L3Nu1N22EaKY",
        "outputId": "2848f755-7568-44a2-b5b6-acdc3cebed78"
      },
      "execution_count": 6,
      "outputs": [
        {
          "output_type": "execute_result",
          "data": {
            "text/plain": [
              "[1, 2, 4, 5]"
            ]
          },
          "metadata": {},
          "execution_count": 6
        }
      ]
    },
    {
      "cell_type": "markdown",
      "source": [
        "9. Write a code to access the second element in the list ['a', 'b', 'c', 'd']?"
      ],
      "metadata": {
        "id": "pu0paoURJUin"
      }
    },
    {
      "cell_type": "code",
      "source": [
        "my_list=[\"a\",\"b\",\"c\",\"d\"]\n",
        "my_list[1]"
      ],
      "metadata": {
        "colab": {
          "base_uri": "https://localhost:8080/",
          "height": 36
        },
        "id": "vp2-UewHJN3V",
        "outputId": "def3b47a-30e4-49f1-9c0b-84b42931e790"
      },
      "execution_count": 8,
      "outputs": [
        {
          "output_type": "execute_result",
          "data": {
            "text/plain": [
              "'b'"
            ],
            "application/vnd.google.colaboratory.intrinsic+json": {
              "type": "string"
            }
          },
          "metadata": {},
          "execution_count": 8
        }
      ]
    },
    {
      "cell_type": "markdown",
      "source": [
        "10. Write a code to reverse the list [10, 20, 30, 40, 50]."
      ],
      "metadata": {
        "id": "FOgG8VOgKcRW"
      }
    },
    {
      "cell_type": "code",
      "source": [
        "my_list= [10,20,30,40,50]\n",
        "my_list.reverse()\n",
        "my_list"
      ],
      "metadata": {
        "colab": {
          "base_uri": "https://localhost:8080/"
        },
        "id": "E2BqDjsIKHL-",
        "outputId": "775c159d-24ab-43b1-b33a-4c331d83fa4e"
      },
      "execution_count": 9,
      "outputs": [
        {
          "output_type": "execute_result",
          "data": {
            "text/plain": [
              "[50, 40, 30, 20, 10]"
            ]
          },
          "metadata": {},
          "execution_count": 9
        }
      ]
    },
    {
      "cell_type": "markdown",
      "source": [
        "11. Write a code to create a tuple with the elements 100, 200, 300 and print it?"
      ],
      "metadata": {
        "id": "oe3reFvhLVVD"
      }
    },
    {
      "cell_type": "code",
      "source": [
        "my_tuple= (100,200,300)\n",
        "my_tuple"
      ],
      "metadata": {
        "colab": {
          "base_uri": "https://localhost:8080/"
        },
        "id": "Yew5fPelLRFP",
        "outputId": "67abe90a-6fbb-4547-850d-c91c65ea8dc4"
      },
      "execution_count": 10,
      "outputs": [
        {
          "output_type": "execute_result",
          "data": {
            "text/plain": [
              "(100, 200, 300)"
            ]
          },
          "metadata": {},
          "execution_count": 10
        }
      ]
    },
    {
      "cell_type": "markdown",
      "source": [
        "12.  Write a code to access the second-to-last element of the tuple ('red', 'green', 'blue', 'yellow')."
      ],
      "metadata": {
        "id": "Mx_g9EqvL4vB"
      }
    },
    {
      "cell_type": "code",
      "source": [
        "my_tuple = ('red', 'green', 'blue', 'yellow')\n",
        "second_to_last_element = my_tuple[-2]\n",
        "print(second_to_last_element)"
      ],
      "metadata": {
        "colab": {
          "base_uri": "https://localhost:8080/"
        },
        "id": "wNvn2pxjMtzW",
        "outputId": "c94081d6-8b25-49cd-b9f5-52a9bb5816b0"
      },
      "execution_count": 1,
      "outputs": [
        {
          "output_type": "stream",
          "name": "stdout",
          "text": [
            "blue\n"
          ]
        }
      ]
    },
    {
      "cell_type": "markdown",
      "source": [
        "13. Write a code to find the minimum number in the tuple (10, 20, 5, 15)."
      ],
      "metadata": {
        "id": "kRjMki4-i1sx"
      }
    },
    {
      "cell_type": "code",
      "source": [
        "my_tuple = (10, 20, 5, 15)\n",
        "minimum_number = min(my_tuple)\n",
        "minimum_number"
      ],
      "metadata": {
        "colab": {
          "base_uri": "https://localhost:8080/"
        },
        "id": "uUH58dxPiCc6",
        "outputId": "3aa5b41d-ac2f-4ee5-f1f5-626424412ef2"
      },
      "execution_count": 2,
      "outputs": [
        {
          "output_type": "execute_result",
          "data": {
            "text/plain": [
              "5"
            ]
          },
          "metadata": {},
          "execution_count": 2
        }
      ]
    },
    {
      "cell_type": "markdown",
      "source": [
        "14. Write a code to find the index of the element \"cat\" in the tuple ('dog', 'cat', 'rabbit')."
      ],
      "metadata": {
        "id": "yuRMg8wCjJii"
      }
    },
    {
      "cell_type": "code",
      "source": [
        "my_tuple=('dog', 'cat', 'rabbit')\n",
        "cat_index= my_tuple.index(\"cat\")\n",
        "cat_index"
      ],
      "metadata": {
        "colab": {
          "base_uri": "https://localhost:8080/"
        },
        "id": "bQyBg1gijWrQ",
        "outputId": "5aad548a-0a69-4e90-b489-4fb27ea0df22"
      },
      "execution_count": 5,
      "outputs": [
        {
          "output_type": "execute_result",
          "data": {
            "text/plain": [
              "1"
            ]
          },
          "metadata": {},
          "execution_count": 5
        }
      ]
    },
    {
      "cell_type": "markdown",
      "source": [
        "15. Write a code to create a tuple containing three different fruits and check if \"kiwi\" is in it."
      ],
      "metadata": {
        "id": "bfYI78rFkQ0r"
      }
    },
    {
      "cell_type": "code",
      "source": [
        "fruits = ('apple', 'banana', 'orange')\n",
        "if 'kiwi' in fruits:\n",
        "  print(\"Yes, 'kiwi' is in the tuple.\")\n",
        "else:\n",
        "  print(\"No, 'kiwi' is not in the tuple.\")"
      ],
      "metadata": {
        "colab": {
          "base_uri": "https://localhost:8080/"
        },
        "id": "JpxdR07djwsa",
        "outputId": "806ec4e7-0844-4c1b-a9a5-0ce268261e3c"
      },
      "execution_count": 8,
      "outputs": [
        {
          "output_type": "stream",
          "name": "stdout",
          "text": [
            "No, 'kiwi' is not in the tuple.\n"
          ]
        }
      ]
    },
    {
      "cell_type": "markdown",
      "source": [
        "16. Write a code to create a set with the elements 'a', 'b', 'c' and print it."
      ],
      "metadata": {
        "id": "Ka-LFCXilgmz"
      }
    },
    {
      "cell_type": "code",
      "source": [
        "my_set = {'a', 'b', 'c'}\n",
        "print(my_set)\n"
      ],
      "metadata": {
        "colab": {
          "base_uri": "https://localhost:8080/"
        },
        "id": "Kkq1slO7lC29",
        "outputId": "26b591a9-5ce5-4711-8762-a0ff8e9f0069"
      },
      "execution_count": 12,
      "outputs": [
        {
          "output_type": "stream",
          "name": "stdout",
          "text": [
            "{'a', 'b', 'c'}\n"
          ]
        }
      ]
    },
    {
      "cell_type": "markdown",
      "source": [
        "17. Write a code to clear all elements from the set {1, 2, 3, 4, 5}."
      ],
      "metadata": {
        "id": "HOG2c-p3m7pR"
      }
    },
    {
      "cell_type": "code",
      "source": [
        "my_set = {1, 2, 3, 4, 5}\n",
        "my_set.clear()\n",
        "my_set"
      ],
      "metadata": {
        "colab": {
          "base_uri": "https://localhost:8080/"
        },
        "id": "y6FxtOgHmKQr",
        "outputId": "88d7b046-95fd-479a-ba59-703f84c6495e"
      },
      "execution_count": 13,
      "outputs": [
        {
          "output_type": "execute_result",
          "data": {
            "text/plain": [
              "set()"
            ]
          },
          "metadata": {},
          "execution_count": 13
        }
      ]
    },
    {
      "cell_type": "markdown",
      "source": [
        "18. Write a code to remove the element 4 from the set {1, 2, 3, 4}."
      ],
      "metadata": {
        "id": "HO3k9jHTnXqs"
      }
    },
    {
      "cell_type": "code",
      "source": [
        "my_set = {1, 2, 3, 4}\n",
        "my_set.remove(4)\n",
        "my_set"
      ],
      "metadata": {
        "colab": {
          "base_uri": "https://localhost:8080/"
        },
        "id": "GQ5KgbotnVtY",
        "outputId": "76517638-b15f-4f57-dc59-a84027514073"
      },
      "execution_count": 14,
      "outputs": [
        {
          "output_type": "execute_result",
          "data": {
            "text/plain": [
              "{1, 2, 3}"
            ]
          },
          "metadata": {},
          "execution_count": 14
        }
      ]
    },
    {
      "cell_type": "markdown",
      "source": [
        "19. Write a code to find the union of two sets {1, 2, 3} and {3, 4, 5}."
      ],
      "metadata": {
        "id": "l9pa_qk9oCca"
      }
    },
    {
      "cell_type": "code",
      "source": [
        "set1 = {1, 2, 3}\n",
        "set2 = {3, 4, 5}\n",
        "union_set = set1 | set2\n",
        "union_set"
      ],
      "metadata": {
        "colab": {
          "base_uri": "https://localhost:8080/"
        },
        "id": "z3wXk6pAoBTf",
        "outputId": "a9c17433-1472-4bca-d51b-5ee0afa3fbd2"
      },
      "execution_count": 15,
      "outputs": [
        {
          "output_type": "execute_result",
          "data": {
            "text/plain": [
              "{1, 2, 3, 4, 5}"
            ]
          },
          "metadata": {},
          "execution_count": 15
        }
      ]
    },
    {
      "cell_type": "markdown",
      "source": [
        "20. Write a code to find the intersection of two sets {1, 2, 3} and {2, 3, 4}."
      ],
      "metadata": {
        "id": "eE-IDiLXohPO"
      }
    },
    {
      "cell_type": "code",
      "source": [
        "set1 = {1, 2, 3}\n",
        "set2 = {2, 3, 4}\n",
        "intersection_set = set1 & set2\n",
        "intersection_set"
      ],
      "metadata": {
        "colab": {
          "base_uri": "https://localhost:8080/"
        },
        "id": "y3I5K429odH6",
        "outputId": "9167a2a9-e924-4adb-ec6b-2d7b80a27973"
      },
      "execution_count": 16,
      "outputs": [
        {
          "output_type": "execute_result",
          "data": {
            "text/plain": [
              "{2, 3}"
            ]
          },
          "metadata": {},
          "execution_count": 16
        }
      ]
    },
    {
      "cell_type": "markdown",
      "source": [
        "21. Write a code to create a dictionary with the keys \"name\", \"age\", and \"city\", and print it."
      ],
      "metadata": {
        "id": "DLYokFsppCMS"
      }
    },
    {
      "cell_type": "code",
      "source": [
        "my_details = {} # Initialize an empty dictionary\n",
        "my_details[\"name\"] = \"Medhansh\"\n",
        "my_details[\"age\"] = 20\n",
        "my_details[\"city\"] = \"New Delhi\"\n",
        "my_details"
      ],
      "metadata": {
        "colab": {
          "base_uri": "https://localhost:8080/"
        },
        "id": "0cdgsmsro5to",
        "outputId": "e1962c42-6099-4cf6-a8b7-74f40f189e42"
      },
      "execution_count": 18,
      "outputs": [
        {
          "output_type": "execute_result",
          "data": {
            "text/plain": [
              "{'name': 'Medhansh', 'age': 20, 'city': 'New Delhi'}"
            ]
          },
          "metadata": {},
          "execution_count": 18
        }
      ]
    },
    {
      "cell_type": "markdown",
      "source": [
        "22. Write a code to add a new key-value pair \"country\": \"USA\" to the dictionary {'name': 'John', 'age': 25}"
      ],
      "metadata": {
        "id": "fI9mPmiyp__z"
      }
    },
    {
      "cell_type": "code",
      "source": [
        "my_dict = {'name': 'John', 'age': 25}\n",
        "my_dict[\"country\"] = \"USA\"\n",
        "my_dict"
      ],
      "metadata": {
        "colab": {
          "base_uri": "https://localhost:8080/"
        },
        "id": "Tohw34B8pr39",
        "outputId": "52c7e028-3334-448d-858f-0c1e5ccd32c4"
      },
      "execution_count": 19,
      "outputs": [
        {
          "output_type": "execute_result",
          "data": {
            "text/plain": [
              "{'name': 'John', 'age': 25, 'country': 'USA'}"
            ]
          },
          "metadata": {},
          "execution_count": 19
        }
      ]
    },
    {
      "cell_type": "markdown",
      "source": [
        "23. Write a code to access the value associated with the key \"name\" in the dictionary {'name': 'Alice', 'age': 30}"
      ],
      "metadata": {
        "id": "m-ChL9b4qqV2"
      }
    },
    {
      "cell_type": "code",
      "source": [
        "my_dict = {'name': 'Alice', 'age': 30}\n",
        "name_value = my_dict['name']\n",
        "name_value"
      ],
      "metadata": {
        "colab": {
          "base_uri": "https://localhost:8080/",
          "height": 36
        },
        "id": "bEQXT88xqnHU",
        "outputId": "7dde9d3d-62ed-4d84-e318-209660b24d12"
      },
      "execution_count": 20,
      "outputs": [
        {
          "output_type": "execute_result",
          "data": {
            "text/plain": [
              "'Alice'"
            ],
            "application/vnd.google.colaboratory.intrinsic+json": {
              "type": "string"
            }
          },
          "metadata": {},
          "execution_count": 20
        }
      ]
    },
    {
      "cell_type": "markdown",
      "source": [
        "24. Write a code to remove the key \"age\" from the dictionary {'name': 'Bob', 'age': 22, 'city': 'New York'}"
      ],
      "metadata": {
        "id": "fnoBcaIVrl3i"
      }
    },
    {
      "cell_type": "code",
      "source": [
        "my_dict = {'name': 'Bob', 'age': 22, 'city': 'New York'}\n",
        "del my_dict['age']\n",
        "my_dict"
      ],
      "metadata": {
        "colab": {
          "base_uri": "https://localhost:8080/"
        },
        "id": "j7Mq8Sl4rXM2",
        "outputId": "2f7628b8-7620-45e8-a21b-026c649a1599"
      },
      "execution_count": 21,
      "outputs": [
        {
          "output_type": "execute_result",
          "data": {
            "text/plain": [
              "{'name': 'Bob', 'city': 'New York'}"
            ]
          },
          "metadata": {},
          "execution_count": 21
        }
      ]
    },
    {
      "cell_type": "markdown",
      "source": [
        "25.  Write a code to check if the key \"city\" exists in the dictionary {'name': 'Alice', 'city': 'Paris'}."
      ],
      "metadata": {
        "id": "Bjpla39zsPM4"
      }
    },
    {
      "cell_type": "code",
      "source": [
        "my_dict = {'name': 'Alice', 'city': 'Paris'}\n",
        "if 'city' in my_dict:\n",
        "  print(\"Yes, the key 'city' exists.\")\n",
        "else:\n",
        "  print(\"No, the key 'city' does not exist.\")"
      ],
      "metadata": {
        "colab": {
          "base_uri": "https://localhost:8080/"
        },
        "id": "LFkE78REsNcf",
        "outputId": "beb5b4ac-bef1-4bd2-baaa-ecdf207cb145"
      },
      "execution_count": 22,
      "outputs": [
        {
          "output_type": "stream",
          "name": "stdout",
          "text": [
            "Yes, the key 'city' exists.\n"
          ]
        }
      ]
    },
    {
      "cell_type": "markdown",
      "source": [
        "26. Write a code to create a list, a tuple, and a dictionary, and print them all."
      ],
      "metadata": {
        "id": "3FOSet5vs13N"
      }
    },
    {
      "cell_type": "code",
      "source": [
        "my_list = [1, \"hello\", 3.14]\n",
        "my_tuple = (1, \"hello\", 3.14)\n",
        "my_dict = {\n",
        "    \"item1\": 1,\n",
        "    \"item2\": \"hello\",\n",
        "    \"item3\": 3.14}\n",
        "\n",
        "  # Print each data structure\n",
        "print(\"List:\", my_list)\n",
        "print(\"Tuple:\", my_tuple)\n",
        "print(\"Dictionary:\", my_dict)"
      ],
      "metadata": {
        "colab": {
          "base_uri": "https://localhost:8080/"
        },
        "id": "DABfpc4UszUB",
        "outputId": "390a5160-186a-4c70-89bf-350e5ef2388a"
      },
      "execution_count": 24,
      "outputs": [
        {
          "output_type": "stream",
          "name": "stdout",
          "text": [
            "List: [1, 'hello', 3.14]\n",
            "Tuple: (1, 'hello', 3.14)\n",
            "Dictionary: {'item1': 1, 'item2': 'hello', 'item3': 3.14}\n"
          ]
        }
      ]
    },
    {
      "cell_type": "markdown",
      "source": [
        "27. Write a code to create a list of 5 random numbers between 1 and 100, sort it in ascending order, and print the result.(replaced)"
      ],
      "metadata": {
        "id": "k_Q3qqhzuJev"
      }
    },
    {
      "cell_type": "code",
      "source": [
        "import random\n",
        "\n",
        "random_numbers = []\n",
        "# Generate 5 random numbers and add them to the list\n",
        "for _ in range(5):\n",
        "  random_numbers.append(random.randint(1, 100))\n",
        "  # Sort the list in ascending order\n",
        "random_numbers.sort()\n",
        "# Print the final sorted list\n",
        "print(random_numbers)"
      ],
      "metadata": {
        "colab": {
          "base_uri": "https://localhost:8080/"
        },
        "id": "UZAXk-YFt9ah",
        "outputId": "c39056d6-e871-4325-e3cd-3b5e700f6e03"
      },
      "execution_count": 28,
      "outputs": [
        {
          "output_type": "stream",
          "name": "stdout",
          "text": [
            "[2, 24, 28, 82, 85]\n"
          ]
        }
      ]
    },
    {
      "cell_type": "markdown",
      "source": [
        "28. Write a code to create a list with strings and print the element at the third index."
      ],
      "metadata": {
        "id": "0rVxPrDgvyfR"
      }
    },
    {
      "cell_type": "code",
      "source": [
        "fruits = [\"apple\", \"banana\", \"cherry\", \"date\", \"elderberry\"]\n",
        "element = fruits[3]\n",
        "print(element)"
      ],
      "metadata": {
        "colab": {
          "base_uri": "https://localhost:8080/"
        },
        "id": "o_cdlqQovLUk",
        "outputId": "5a831266-31e6-4919-e623-2838bde68f5f"
      },
      "execution_count": 30,
      "outputs": [
        {
          "output_type": "stream",
          "name": "stdout",
          "text": [
            "date\n"
          ]
        }
      ]
    },
    {
      "cell_type": "markdown",
      "source": [
        "29.  Write a code to combine two dictionaries into one and print the result"
      ],
      "metadata": {
        "id": "BZz7K9gRwZKS"
      }
    },
    {
      "cell_type": "code",
      "source": [
        "dict1 = {'name': 'Alice', 'age': 30}\n",
        "dict2 = {'city': 'Paris', 'age': 31}\n",
        "merged_dict = dict1 | dict2\n",
        "print(merged_dict)"
      ],
      "metadata": {
        "colab": {
          "base_uri": "https://localhost:8080/"
        },
        "id": "iDD1_op8wPsM",
        "outputId": "94f021e4-77c5-4169-cac0-b5b503df7bbd"
      },
      "execution_count": 31,
      "outputs": [
        {
          "output_type": "stream",
          "name": "stdout",
          "text": [
            "{'name': 'Alice', 'age': 31, 'city': 'Paris'}\n"
          ]
        }
      ]
    },
    {
      "cell_type": "markdown",
      "source": [
        "30.  Write a code to convert a list of strings into a set."
      ],
      "metadata": {
        "id": "v8FVRpFpxW7E"
      }
    },
    {
      "cell_type": "code",
      "source": [
        "my_list = [\"apple\", \"banana\", \"cherry\", \"apple\"]\n",
        "# Convert the list to a set\n",
        "my_set = set(my_list)\n",
        "print(my_set)"
      ],
      "metadata": {
        "colab": {
          "base_uri": "https://localhost:8080/"
        },
        "id": "VGr05na8xVVx",
        "outputId": "089ebd4c-7e88-41c0-ea5c-3beac766c0c0"
      },
      "execution_count": 32,
      "outputs": [
        {
          "output_type": "stream",
          "name": "stdout",
          "text": [
            "{'apple', 'cherry', 'banana'}\n"
          ]
        }
      ]
    },
    {
      "cell_type": "code",
      "source": [],
      "metadata": {
        "id": "_NAjCpS8xwJI"
      },
      "execution_count": null,
      "outputs": []
    }
  ]
}